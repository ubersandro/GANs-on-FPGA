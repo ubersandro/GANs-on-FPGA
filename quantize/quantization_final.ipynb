{
 "cells": [
  {
   "cell_type": "code",
   "execution_count": 1,
   "id": "94df85d1",
   "metadata": {},
   "outputs": [
    {
     "name": "stderr",
     "output_type": "stream",
     "text": [
      "2023-01-11 09:45:09.270600: W tensorflow/stream_executor/platform/default/dso_loader.cc:64] Could not load dynamic library 'libcudart.so.11.0'; dlerror: libcudart.so.11.0: cannot open shared object file: No such file or directory; LD_LIBRARY_PATH: /opt/xilinx/xrt/lib:/usr/lib:/usr/lib/x86_64-linux-gnu\n",
      "2023-01-11 09:45:09.270617: I tensorflow/stream_executor/cuda/cudart_stub.cc:29] Ignore above cudart dlerror if you do not have a GPU set up on your machine.\n"
     ]
    },
    {
     "name": "stdout",
     "output_type": "stream",
     "text": [
      "2.8.0\n"
     ]
    }
   ],
   "source": [
    "import tensorflow as tf\n",
    "import numpy as np\n",
    "import os\n",
    "import shutil\n",
    "import random\n",
    "import glob\n",
    "\n",
    "from IPython.display import display\n",
    "import matplotlib.pyplot as plt\n",
    "\n",
    "import warnings\n",
    "import logging\n",
    "\n",
    "tfk = tf.keras\n",
    "tfkl = tf.keras.layers\n",
    "print(tf.__version__)\n",
    "seed = 42\n",
    "\n",
    "random.seed(seed)\n",
    "os.environ['PYTHONHASHSEED'] = str(seed)\n",
    "np.random.seed(seed)\n",
    "tf.random.set_seed(seed)\n",
    "tf.compat.v1.set_random_seed(seed)\n",
    "os.environ['TF_CPP_MIN_LOG_LEVEL'] = '3'\n",
    "warnings.simplefilter(action='ignore', category=FutureWarning)\n",
    "warnings.simplefilter(action='ignore', category=Warning)\n",
    "tf.get_logger().setLevel('INFO')\n",
    "tf.autograph.set_verbosity(0)\n",
    "\n",
    "tf.get_logger().setLevel(logging.ERROR)\n",
    "tf.get_logger().setLevel('ERROR')\n",
    "tf.compat.v1.logging.set_verbosity(tf.compat.v1.logging.ERROR)\n",
    "\n"
   ]
  },
  {
   "cell_type": "code",
   "execution_count": 2,
   "id": "23449520",
   "metadata": {},
   "outputs": [
    {
     "data": {
      "image/png": "[encoded data removed]",
      "text/plain": [
       "<Figure size 1440x720 with 10 Axes>"
      ]
     },
     "metadata": {
      "needs_background": "light"
     },
     "output_type": "display_data"
    }
   ],
   "source": [
    "(X_train_val, y_train_val), (X_test, y_test) = tfk.datasets.fashion_mnist.load_data()  ; #from zalando \n",
    "X = np.concatenate([X_train_val,X_test],axis=0)\n",
    "X = np.expand_dims(((X-127.5)/127.5),axis=-1).astype('float32') \n",
    "y = np.concatenate([y_train_val,y_test],axis=0)\n",
    "X.shape, y.shape\n",
    "\n",
    "\n",
    "# Inspect the data\n",
    "fig, axes = plt.subplots(1, 10, figsize=(20,10))\n",
    "for i in range(10):\n",
    "    ax = axes[i%10]\n",
    "    ax.imshow(np.squeeze(X[i]), cmap='gray')\n",
    "    ax.axis('off')\n",
    "plt.tight_layout()\n",
    "plt.show()"
   ]
  },
  {
   "cell_type": "code",
   "execution_count": 3,
   "id": "6dff0088",
   "metadata": {},
   "outputs": [
    {
     "name": "stderr",
     "output_type": "stream",
     "text": [
      "2023-01-11 09:45:12.142917: W tensorflow/stream_executor/platform/default/dso_loader.cc:64] Could not load dynamic library 'libcuda.so.1'; dlerror: libcuda.so.1: cannot open shared object file: No such file or directory; LD_LIBRARY_PATH: /opt/xilinx/xrt/lib:/usr/lib:/usr/lib/x86_64-linux-gnu\n",
      "2023-01-11 09:45:12.142940: W tensorflow/stream_executor/cuda/cuda_driver.cc:269] failed call to cuInit: UNKNOWN ERROR (303)\n",
      "2023-01-11 09:45:12.142957: I tensorflow/stream_executor/cuda/cuda_diagnostics.cc:156] kernel driver does not appear to be running on this host (localhost): /proc/driver/nvidia/version does not exist\n",
      "2023-01-11 09:45:12.143136: I tensorflow/core/platform/cpu_feature_guard.cc:151] This TensorFlow binary is optimized with oneAPI Deep Neural Network Library (oneDNN) to use the following CPU instructions in performance-critical operations:  AVX2 FMA\n",
      "To enable them in other operations, rebuild TensorFlow with the appropriate compiler flags.\n"
     ]
    }
   ],
   "source": [
    "model = tfk.models.load_model('/workspace/TESTS/fpga101gan/float/vanilla_gan_generator')"
   ]
  },
  {
   "cell_type": "code",
   "execution_count": 4,
   "id": "9bab4589",
   "metadata": {},
   "outputs": [
    {
     "name": "stdout",
     "output_type": "stream",
     "text": [
      "Model: \"generator\"\n",
      "_________________________________________________________________\n",
      " Layer (type)                Output Shape              Param #   \n",
      "=================================================================\n",
      " Input (InputLayer)          [(None, 128)]             0         \n",
      "                                                                 \n",
      " dense0 (Dense)              (None, 1024)              131072    \n",
      "                                                                 \n",
      " bn0 (BatchNormalization)    (None, 1024)              4096      \n",
      "                                                                 \n",
      " activation0 (LeakyReLU)     (None, 1024)              0         \n",
      "                                                                 \n",
      " reshape_1 (Reshape)         (None, 4, 4, 64)          0         \n",
      "                                                                 \n",
      " upsampling1 (UpSampling2D)  (None, 8, 8, 64)          0         \n",
      "                                                                 \n",
      " conv1 (Conv2D)              (None, 8, 8, 64)          36864     \n",
      "                                                                 \n",
      " bn1 (BatchNormalization)    (None, 8, 8, 64)          256       \n",
      "                                                                 \n",
      " activation1 (LeakyReLU)     (None, 8, 8, 64)          0         \n",
      "                                                                 \n",
      " upsampling2 (UpSampling2D)  (None, 16, 16, 64)        0         \n",
      "                                                                 \n",
      " conv2 (Conv2D)              (None, 16, 16, 128)       73728     \n",
      "                                                                 \n",
      " bn2 (BatchNormalization)    (None, 16, 16, 128)       512       \n",
      "                                                                 \n",
      " activation2 (LeakyReLU)     (None, 16, 16, 128)       0         \n",
      "                                                                 \n",
      " upsampling3 (UpSampling2D)  (None, 32, 32, 128)       0         \n",
      "                                                                 \n",
      " conv3 (Conv2D)              (None, 32, 32, 256)       294912    \n",
      "                                                                 \n",
      " bn3 (BatchNormalization)    (None, 32, 32, 256)       1024      \n",
      "                                                                 \n",
      " activation3 (LeakyReLU)     (None, 32, 32, 256)       0         \n",
      "                                                                 \n",
      " conv_out (Conv2D)           (None, 32, 32, 1)         2304      \n",
      "                                                                 \n",
      " activation_out (Activation)  (None, 32, 32, 1)        0         \n",
      "                                                                 \n",
      " cropping (Cropping2D)       (None, 28, 28, 1)         0         \n",
      "                                                                 \n",
      "=================================================================\n",
      "Total params: 544,768\n",
      "Trainable params: 541,824\n",
      "Non-trainable params: 2,944\n",
      "_________________________________________________________________\n"
     ]
    }
   ],
   "source": [
    "model.summary() "
   ]
  },
  {
   "cell_type": "code",
   "execution_count": 5,
   "id": "e34afebb",
   "metadata": {},
   "outputs": [
    {
     "name": "stdout",
     "output_type": "stream",
     "text": [
      "Inference of COMPLETE float model on CPU takes  0:00:00.064707\n"
     ]
    }
   ],
   "source": [
    "from datetime import datetime \n",
    "i = tf.random.normal(shape=(1,128))\n",
    "start = datetime.now() \n",
    "out = model(i) \n",
    "print('Inference of COMPLETE float model on CPU takes ', datetime.now()-start)"
   ]
  },
  {
   "cell_type": "code",
   "execution_count": 6,
   "id": "00a753e5",
   "metadata": {},
   "outputs": [],
   "source": [
    "inputs = tf.random.normal(shape=(100,128))\n",
    "outputs = model(inputs)"
   ]
  },
  {
   "cell_type": "code",
   "execution_count": 7,
   "id": "66632b29",
   "metadata": {},
   "outputs": [
    {
     "data": {
      "image/png": "[encoded data removed]",
      "text/plain": [
       "<Figure size 1440x720 with 10 Axes>"
      ]
     },
     "metadata": {
      "needs_background": "light"
     },
     "output_type": "display_data"
    }
   ],
   "source": [
    "fig, axes = plt.subplots(1, 10, figsize=(20,10))\n",
    "for i in range(10):\n",
    "    ax = axes[i%10]\n",
    "    ax.imshow(np.squeeze(outputs[i]), cmap='gray')\n",
    "    ax.axis('off')\n",
    "plt.tight_layout()\n",
    "plt.show()"
   ]
  },
  {
   "cell_type": "markdown",
   "id": "48d03ca3",
   "metadata": {},
   "source": [
    "It is necessary to remove last layers from the model in order to obtain a single subgraph ending up on the DPU. "
   ]
  },
  {
   "cell_type": "code",
   "execution_count": 8,
   "id": "1316342a",
   "metadata": {},
   "outputs": [
    {
     "name": "stdout",
     "output_type": "stream",
     "text": [
      "Model: \"model\"\n",
      "_________________________________________________________________\n",
      " Layer (type)                Output Shape              Param #   \n",
      "=================================================================\n",
      " Input (InputLayer)          [(None, 128)]             0         \n",
      "                                                                 \n",
      " dense0 (Dense)              (None, 1024)              131072    \n",
      "                                                                 \n",
      " bn0 (BatchNormalization)    (None, 1024)              4096      \n",
      "                                                                 \n",
      " activation0 (LeakyReLU)     (None, 1024)              0         \n",
      "                                                                 \n",
      " reshape_1 (Reshape)         (None, 4, 4, 64)          0         \n",
      "                                                                 \n",
      " upsampling1 (UpSampling2D)  (None, 8, 8, 64)          0         \n",
      "                                                                 \n",
      " conv1 (Conv2D)              (None, 8, 8, 64)          36864     \n",
      "                                                                 \n",
      " bn1 (BatchNormalization)    (None, 8, 8, 64)          256       \n",
      "                                                                 \n",
      " activation1 (LeakyReLU)     (None, 8, 8, 64)          0         \n",
      "                                                                 \n",
      " upsampling2 (UpSampling2D)  (None, 16, 16, 64)        0         \n",
      "                                                                 \n",
      " conv2 (Conv2D)              (None, 16, 16, 128)       73728     \n",
      "                                                                 \n",
      " bn2 (BatchNormalization)    (None, 16, 16, 128)       512       \n",
      "                                                                 \n",
      " activation2 (LeakyReLU)     (None, 16, 16, 128)       0         \n",
      "                                                                 \n",
      " upsampling3 (UpSampling2D)  (None, 32, 32, 128)       0         \n",
      "                                                                 \n",
      " conv3 (Conv2D)              (None, 32, 32, 256)       294912    \n",
      "                                                                 \n",
      " bn3 (BatchNormalization)    (None, 32, 32, 256)       1024      \n",
      "                                                                 \n",
      " activation3 (LeakyReLU)     (None, 32, 32, 256)       0         \n",
      "                                                                 \n",
      " conv_out (Conv2D)           (None, 32, 32, 1)         2304      \n",
      "                                                                 \n",
      "=================================================================\n",
      "Total params: 544,768\n",
      "Trainable params: 541,824\n",
      "Non-trainable params: 2,944\n",
      "_________________________________________________________________\n"
     ]
    }
   ],
   "source": [
    "model_no_out = tfk.Model(inputs=model.input, outputs=[model.layers[-3].output])\n",
    "model_no_out.summary()"
   ]
  },
  {
   "cell_type": "code",
   "execution_count": 9,
   "id": "d3b5b08e",
   "metadata": {},
   "outputs": [
    {
     "name": "stdout",
     "output_type": "stream",
     "text": [
      "Inference of NO OUTPUT float model on CPU takes  0:00:00.041511\n"
     ]
    }
   ],
   "source": [
    "from datetime import datetime \n",
    "i = tf.random.normal(shape=(1,128))\n",
    "start = datetime.now() \n",
    "out = model_no_out(i) \n",
    "print('Inference of NO OUTPUT float model on CPU takes ', datetime.now()-start)"
   ]
  },
  {
   "cell_type": "markdown",
   "id": "1a37e507",
   "metadata": {},
   "source": [
    "# POST TRAINING QUANTIZATION"
   ]
  },
  {
   "cell_type": "code",
   "execution_count": 10,
   "id": "1f08dd23",
   "metadata": {},
   "outputs": [
    {
     "name": "stdout",
     "output_type": "stream",
     "text": [
      "[VAI INFO] Start CrossLayerEqualization...\n",
      "10/10 [==============================] - 1s 141ms/step\n",
      "[VAI INFO] CrossLayerEqualization Done.\n",
      "[VAI INFO] Start Quantize Calibration...\n",
      "1/1 [==============================] - 4s 4s/step\n",
      "[VAI INFO] Quantize Calibration Done.\n",
      "[VAI INFO] Start Post-Quant Model Refinement...\n",
      "[VAI INFO] Start Quantize Position Ajustment...\n",
      "[VAI INFO] Quantize Position Ajustment Done.\n",
      "[VAI INFO] Start Getting Shape Information...\n",
      "[VAI INFO] Getting model layer shape information\n",
      "[VAI INFO] Getting Shape Information Done.\n",
      "[VAI INFO] Post-Quant Model Refninement Done.\n",
      "[VAI INFO] Start Model Finalization...\n",
      "[VAI INFO] Model Finalization Done.\n",
      "[VAI INFO] Quantization Finished.\n"
     ]
    }
   ],
   "source": [
    "from tensorflow_model_optimization.quantization.keras import vitis_quantize\n",
    "with vitis_quantize.quantize_scope():\n",
    "    quantizer = vitis_quantize.VitisQuantizer(model_no_out)\n",
    "    quantized_model = quantizer.quantize_model(calib_dataset=inputs,add_shape_info=True,calib_batch_size=100)"
   ]
  },
  {
   "cell_type": "code",
   "execution_count": 11,
   "id": "f1f4a220",
   "metadata": {},
   "outputs": [
    {
     "name": "stdout",
     "output_type": "stream",
     "text": [
      "Model: \"model\"\n",
      "_________________________________________________________________\n",
      " Layer (type)                Output Shape              Param #   \n",
      "=================================================================\n",
      " Input (InputLayer)          [(None, 128)]             0         \n",
      "                                                                 \n",
      " quant_Input (VitisQuantize)  (None, 128)              4         \n",
      "                                                                 \n",
      " quant_dense0 (QuantizeWrapp  (None, 1024)             132103    \n",
      " er)                                                             \n",
      "                                                                 \n",
      " quant_activation0 (Quantize  (None, 1024)             4         \n",
      " Wrapper)                                                        \n",
      "                                                                 \n",
      " quant_reshape_1 (QuantizeWr  (None, 4, 4, 64)         1         \n",
      " apper)                                                          \n",
      "                                                                 \n",
      " quant_upsampling1 (Quantize  (None, 8, 8, 64)         4         \n",
      " Wrapper)                                                        \n",
      "                                                                 \n",
      " quant_conv1 (QuantizeWrappe  (None, 8, 8, 64)         36935     \n",
      " r)                                                              \n",
      "                                                                 \n",
      " quant_activation1 (Quantize  (None, 8, 8, 64)         4         \n",
      " Wrapper)                                                        \n",
      "                                                                 \n",
      " quant_upsampling2 (Quantize  (None, 16, 16, 64)       4         \n",
      " Wrapper)                                                        \n",
      "                                                                 \n",
      " quant_conv2 (QuantizeWrappe  (None, 16, 16, 128)      73863     \n",
      " r)                                                              \n",
      "                                                                 \n",
      " quant_activation2 (Quantize  (None, 16, 16, 128)      4         \n",
      " Wrapper)                                                        \n",
      "                                                                 \n",
      " quant_upsampling3 (Quantize  (None, 32, 32, 128)      4         \n",
      " Wrapper)                                                        \n",
      "                                                                 \n",
      " quant_conv3 (QuantizeWrappe  (None, 32, 32, 256)      295175    \n",
      " r)                                                              \n",
      "                                                                 \n",
      " quant_activation3 (Quantize  (None, 32, 32, 256)      4         \n",
      " Wrapper)                                                        \n",
      "                                                                 \n",
      " quant_conv_out (QuantizeWra  (None, 32, 32, 1)        2311      \n",
      " pper)                                                           \n",
      "                                                                 \n",
      "=================================================================\n",
      "Total params: 540,420\n",
      "Trainable params: 540,352\n",
      "Non-trainable params: 68\n",
      "_________________________________________________________________\n"
     ]
    }
   ],
   "source": [
    "quantized_model.summary()"
   ]
  },
  {
   "cell_type": "code",
   "execution_count": 12,
   "id": "3ac43d72",
   "metadata": {},
   "outputs": [
    {
     "name": "stdout",
     "output_type": "stream",
     "text": [
      "Inference of quantized model (without the tanh output) on CPU takes  0:00:00.064734\n"
     ]
    }
   ],
   "source": [
    "from datetime import datetime \n",
    "i = tf.random.normal(shape=(1,128))\n",
    "start = datetime.now() \n",
    "out = quantized_model(i) \n",
    "print('Inference of quantized model (without the tanh output) on CPU takes ', datetime.now()-start)"
   ]
  },
  {
   "cell_type": "code",
   "execution_count": 13,
   "id": "f2ba9234",
   "metadata": {},
   "outputs": [
    {
     "data": {
      "image/png": "[encoded data removed]",
      "text/plain": [
       "<Figure size 1440x720 with 10 Axes>"
      ]
     },
     "metadata": {
      "needs_background": "light"
     },
     "output_type": "display_data"
    }
   ],
   "source": [
    "quantized_outputs = quantized_model(inputs)\n",
    "fig, axes = plt.subplots(1, 10, figsize=(20,10))\n",
    "for i in range(10):\n",
    "    ax = axes[i%10]\n",
    "    ax.imshow(np.squeeze(quantized_outputs[i]), cmap='gray')\n",
    "    ax.axis('off')\n",
    "plt.tight_layout()\n",
    "plt.show() "
   ]
  },
  {
   "cell_type": "markdown",
   "id": "be1f7cb8",
   "metadata": {},
   "source": [
    "These outputs are generated by the quantized model, which does not include the activation function of the very last layer (tanh). "
   ]
  },
  {
   "cell_type": "code",
   "execution_count": 14,
   "id": "9cd85cba",
   "metadata": {},
   "outputs": [
    {
     "data": {
      "image/png": "[encoded data removed]",
      "text/plain": [
       "<Figure size 1440x720 with 10 Axes>"
      ]
     },
     "metadata": {
      "needs_background": "light"
     },
     "output_type": "display_data"
    }
   ],
   "source": [
    "quantized_outputs = np.tanh(quantized_outputs) \n",
    "fig, axes = plt.subplots(1, 10, figsize=(20,10))\n",
    "for i in range(10):\n",
    "    ax = axes[i%10]\n",
    "    ax.imshow(np.squeeze(quantized_outputs[i]), cmap='gray')\n",
    "    ax.axis('off')\n",
    "plt.tight_layout()\n",
    "plt.show() "
   ]
  },
  {
   "cell_type": "code",
   "execution_count": 17,
   "id": "d497da61",
   "metadata": {},
   "outputs": [
    {
     "name": "stdout",
     "output_type": "stream",
     "text": [
      "Inference of quantized model (with the tanh output) on CPU takes  0:00:00.075388\n"
     ]
    }
   ],
   "source": [
    "from datetime import datetime \n",
    "i = tf.random.normal(shape=(1,128))\n",
    "start = datetime.now() \n",
    "out = np.tanh(quantized_model(i)) \n",
    "print('Inference of quantized model (with the tanh output) on CPU takes ', datetime.now()-start)"
   ]
  },
  {
   "cell_type": "code",
   "execution_count": 16,
   "id": "793cf5f9",
   "metadata": {},
   "outputs": [],
   "source": [
    "with vitis_quantize.quantize_scope():\n",
    "    quantized_model.save('model_quant.h5')"
   ]
  }
 ],
 "metadata": {
  "kernelspec": {
   "display_name": "Python 3 (ipykernel)",
   "language": "python",
   "name": "python3"
  },
  "language_info": {
   "codemirror_mode": {
    "name": "ipython",
    "version": 3
   },
   "file_extension": ".py",
   "mimetype": "text/x-python",
   "name": "python",
   "nbconvert_exporter": "python",
   "pygments_lexer": "ipython3",
   "version": "3.7.12"
  }
 },
 "nbformat": 4,
 "nbformat_minor": 5
}
