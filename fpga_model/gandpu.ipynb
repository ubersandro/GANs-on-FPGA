{
 "cells": [
  {
   "cell_type": "markdown",
   "metadata": {},
   "source": [
    "# ACCELERATING IMAGE GENERATION ON FPGA\n",
    "\n",
    "----"
   ]
  },
  {
   "cell_type": "code",
   "execution_count": 1,
   "metadata": {},
   "outputs": [
    {
     "data": {
      "application/javascript": [
       "\n",
       "try {\n",
       "require(['notebook/js/codecell'], function(codecell) {\n",
       "  codecell.CodeCell.options_default.highlight_modes[\n",
       "      'magic_text/x-csrc'] = {'reg':[/^%%microblaze/]};\n",
       "  Jupyter.notebook.events.one('kernel_ready.Kernel', function(){\n",
       "      Jupyter.notebook.get_cells().map(function(cell){\n",
       "          if (cell.cell_type == 'code'){ cell.auto_highlight(); } }) ;\n",
       "  });\n",
       "});\n",
       "} catch (e) {};\n"
      ]
     },
     "metadata": {},
     "output_type": "display_data"
    },
    {
     "data": {
      "application/javascript": [
       "\n",
       "try {\n",
       "require(['notebook/js/codecell'], function(codecell) {\n",
       "  codecell.CodeCell.options_default.highlight_modes[\n",
       "      'magic_text/x-csrc'] = {'reg':[/^%%pybind11/]};\n",
       "  Jupyter.notebook.events.one('kernel_ready.Kernel', function(){\n",
       "      Jupyter.notebook.get_cells().map(function(cell){\n",
       "          if (cell.cell_type == 'code'){ cell.auto_highlight(); } }) ;\n",
       "  });\n",
       "});\n",
       "} catch (e) {};\n"
      ]
     },
     "metadata": {},
     "output_type": "display_data"
    }
   ],
   "source": [
    "from pynq_dpu import DpuOverlay\n",
    "overlay = DpuOverlay(\"dpu.bit\")"
   ]
  },
  {
   "cell_type": "code",
   "execution_count": 2,
   "metadata": {},
   "outputs": [],
   "source": [
    "import os\n",
    "import time\n",
    "import numpy as np\n",
    "import vart \n",
    "from matplotlib import pyplot as plt\n",
    "from datetime import datetime \n",
    "%matplotlib inline"
   ]
  },
  {
   "cell_type": "code",
   "execution_count": 3,
   "metadata": {},
   "outputs": [],
   "source": [
    "overlay.load_model('./ganmodel.xmodel')"
   ]
  },
  {
   "cell_type": "code",
   "execution_count": 4,
   "metadata": {},
   "outputs": [],
   "source": [
    "def compute_tanh(x): \n",
    "    return np.tanh(x) "
   ]
  },
  {
   "cell_type": "code",
   "execution_count": 5,
   "metadata": {},
   "outputs": [],
   "source": [
    "dpu = overlay.runner"
   ]
  },
  {
   "cell_type": "code",
   "execution_count": 6,
   "metadata": {},
   "outputs": [
    {
     "data": {
      "text/plain": [
       "vart::Runner@0xaaaaec677640"
      ]
     },
     "execution_count": 6,
     "metadata": {},
     "output_type": "execute_result"
    }
   ],
   "source": [
    "dpu"
   ]
  },
  {
   "cell_type": "code",
   "execution_count": 7,
   "metadata": {},
   "outputs": [
    {
     "name": "stdout",
     "output_type": "stream",
     "text": [
      "(1, 8, 4, 4) (1, 32, 32, 1) 1024\n"
     ]
    }
   ],
   "source": [
    "inputTensors = dpu.get_input_tensors()\n",
    "outputTensors = dpu.get_output_tensors()\n",
    "\n",
    "shapeIn = tuple(inputTensors[0].dims)\n",
    "shapeOut = tuple(outputTensors[0].dims)\n",
    "outputSize = int(outputTensors[0].get_data_size() / shapeIn[0])\n",
    "\n",
    "softmax = np.empty(outputSize)\n",
    "print(shapeIn, shapeOut, outputSize)"
   ]
  },
  {
   "cell_type": "code",
   "execution_count": 8,
   "metadata": {},
   "outputs": [],
   "source": [
    "def genImages(N=10):\n",
    "    ret = [] \n",
    "    for i in range(N):\n",
    "        output_data = [np.empty(shapeOut, dtype=np.float32, order=\"C\")] \n",
    "        a = np.random.normal(0,1,shapeIn).astype(dtype = np.float32, order=\"C\")\n",
    "        input_data = [a]\n",
    "        start = datetime.now() \n",
    "        job_id = dpu.execute_async(input_data, output_data)\n",
    "        dpu.wait(job_id)\n",
    "        print('Elapsed time for inference only:',datetime.now() - start)\n",
    "        out = compute_tanh(output_data)\n",
    "        print('Elapsed time for full image generation:',datetime.now() - start)\n",
    "        ret.append(out)\n",
    "    return ret "
   ]
  },
  {
   "cell_type": "code",
   "execution_count": 9,
   "metadata": {},
   "outputs": [
    {
     "name": "stdout",
     "output_type": "stream",
     "text": [
      "Elapsed time for inference only: 0:00:00.003469\n",
      "Elapsed time for full image generation: 0:00:00.005023\n",
      "Elapsed time for inference only: 0:00:00.003082\n",
      "Elapsed time for full image generation: 0:00:00.003373\n",
      "Elapsed time for inference only: 0:00:00.002909\n",
      "Elapsed time for full image generation: 0:00:00.003148\n",
      "Elapsed time for inference only: 0:00:00.002914\n",
      "Elapsed time for full image generation: 0:00:00.003159\n",
      "Elapsed time for inference only: 0:00:00.002891\n",
      "Elapsed time for full image generation: 0:00:00.003116\n",
      "Elapsed time for inference only: 0:00:00.002891\n",
      "Elapsed time for full image generation: 0:00:00.003097\n",
      "Elapsed time for inference only: 0:00:00.002886\n",
      "Elapsed time for full image generation: 0:00:00.003112\n",
      "Elapsed time for inference only: 0:00:00.002887\n",
      "Elapsed time for full image generation: 0:00:00.003128\n",
      "Elapsed time for inference only: 0:00:00.002885\n",
      "Elapsed time for full image generation: 0:00:00.003127\n",
      "Elapsed time for inference only: 0:00:00.002885\n",
      "Elapsed time for full image generation: 0:00:00.003132\n",
      "Elapsed time for inference only: 0:00:00.002889\n",
      "Elapsed time for full image generation: 0:00:00.003112\n",
      "Elapsed time for inference only: 0:00:00.002883\n",
      "Elapsed time for full image generation: 0:00:00.003107\n",
      "Elapsed time for inference only: 0:00:00.002890\n",
      "Elapsed time for full image generation: 0:00:00.003148\n",
      "Elapsed time for inference only: 0:00:00.002885\n",
      "Elapsed time for full image generation: 0:00:00.003122\n",
      "Elapsed time for inference only: 0:00:00.002896\n",
      "Elapsed time for full image generation: 0:00:00.003109\n",
      "Elapsed time for inference only: 0:00:00.002889\n",
      "Elapsed time for full image generation: 0:00:00.003112\n",
      "Elapsed time for inference only: 0:00:00.002888\n",
      "Elapsed time for full image generation: 0:00:00.003130\n",
      "Elapsed time for inference only: 0:00:00.002886\n",
      "Elapsed time for full image generation: 0:00:00.003113\n",
      "Elapsed time for inference only: 0:00:00.002891\n",
      "Elapsed time for full image generation: 0:00:00.003096\n",
      "Elapsed time for inference only: 0:00:00.002889\n",
      "Elapsed time for full image generation: 0:00:00.003097\n",
      "Elapsed time for inference only: 0:00:00.002886\n",
      "Elapsed time for full image generation: 0:00:00.003110\n",
      "Elapsed time for inference only: 0:00:00.002896\n",
      "Elapsed time for full image generation: 0:00:00.003130\n",
      "Elapsed time for inference only: 0:00:00.002887\n",
      "Elapsed time for full image generation: 0:00:00.003104\n",
      "Elapsed time for inference only: 0:00:00.002888\n",
      "Elapsed time for full image generation: 0:00:00.003108\n",
      "Elapsed time for inference only: 0:00:00.002887\n",
      "Elapsed time for full image generation: 0:00:00.003141\n",
      "Elapsed time for inference only: 0:00:00.002888\n",
      "Elapsed time for full image generation: 0:00:00.003121\n",
      "Elapsed time for inference only: 0:00:00.002892\n",
      "Elapsed time for full image generation: 0:00:00.003137\n",
      "Elapsed time for inference only: 0:00:00.002885\n",
      "Elapsed time for full image generation: 0:00:00.003094\n",
      "Elapsed time for inference only: 0:00:00.002888\n",
      "Elapsed time for full image generation: 0:00:00.003132\n",
      "Elapsed time for inference only: 0:00:00.002888\n",
      "Elapsed time for full image generation: 0:00:00.003106\n",
      "Elapsed time for inference only: 0:00:00.002889\n",
      "Elapsed time for full image generation: 0:00:00.003117\n",
      "Elapsed time for inference only: 0:00:00.002888\n",
      "Elapsed time for full image generation: 0:00:00.003118\n",
      "Elapsed time for inference only: 0:00:00.002897\n",
      "Elapsed time for full image generation: 0:00:00.003111\n",
      "Elapsed time for inference only: 0:00:00.002884\n",
      "Elapsed time for full image generation: 0:00:00.003097\n",
      "Elapsed time for inference only: 0:00:00.002889\n",
      "Elapsed time for full image generation: 0:00:00.003103\n",
      "Elapsed time for inference only: 0:00:00.002886\n",
      "Elapsed time for full image generation: 0:00:00.003110\n",
      "Elapsed time for inference only: 0:00:00.002886\n",
      "Elapsed time for full image generation: 0:00:00.003121\n",
      "Elapsed time for inference only: 0:00:00.002888\n",
      "Elapsed time for full image generation: 0:00:00.003103\n",
      "Elapsed time for inference only: 0:00:00.002887\n",
      "Elapsed time for full image generation: 0:00:00.003122\n",
      "Elapsed time for inference only: 0:00:00.002886\n",
      "Elapsed time for full image generation: 0:00:00.003111\n",
      "Elapsed time for inference only: 0:00:00.002887\n",
      "Elapsed time for full image generation: 0:00:00.003127\n",
      "Elapsed time for inference only: 0:00:00.002884\n",
      "Elapsed time for full image generation: 0:00:00.003107\n",
      "Elapsed time for inference only: 0:00:00.002888\n",
      "Elapsed time for full image generation: 0:00:00.003150\n",
      "Elapsed time for inference only: 0:00:00.002897\n",
      "Elapsed time for full image generation: 0:00:00.003153\n",
      "Elapsed time for inference only: 0:00:00.002888\n",
      "Elapsed time for full image generation: 0:00:00.003093\n",
      "Elapsed time for inference only: 0:00:00.002886\n",
      "Elapsed time for full image generation: 0:00:00.003133\n",
      "Elapsed time for inference only: 0:00:00.002886\n",
      "Elapsed time for full image generation: 0:00:00.003117\n",
      "Elapsed time for inference only: 0:00:00.002884\n",
      "Elapsed time for full image generation: 0:00:00.003131\n",
      "Elapsed time for inference only: 0:00:00.002887\n",
      "Elapsed time for full image generation: 0:00:00.003134\n",
      "Elapsed time for inference only: 0:00:00.002884\n",
      "Elapsed time for full image generation: 0:00:00.003101\n",
      "Elapsed time for inference only: 0:00:00.002891\n",
      "Elapsed time for full image generation: 0:00:00.003132\n",
      "Elapsed time for inference only: 0:00:00.002886\n",
      "Elapsed time for full image generation: 0:00:00.003159\n",
      "Elapsed time for inference only: 0:00:00.002889\n",
      "Elapsed time for full image generation: 0:00:00.003131\n",
      "Elapsed time for inference only: 0:00:00.002887\n",
      "Elapsed time for full image generation: 0:00:00.003134\n",
      "Elapsed time for inference only: 0:00:00.002897\n",
      "Elapsed time for full image generation: 0:00:00.003146\n",
      "Elapsed time for inference only: 0:00:00.002881\n",
      "Elapsed time for full image generation: 0:00:00.003127\n",
      "Elapsed time for inference only: 0:00:00.002887\n",
      "Elapsed time for full image generation: 0:00:00.003136\n",
      "Elapsed time for inference only: 0:00:00.002889\n",
      "Elapsed time for full image generation: 0:00:00.003127\n",
      "Elapsed time for inference only: 0:00:00.002888\n",
      "Elapsed time for full image generation: 0:00:00.003148\n",
      "Elapsed time for inference only: 0:00:00.002884\n",
      "Elapsed time for full image generation: 0:00:00.003110\n",
      "Elapsed time for inference only: 0:00:00.002886\n",
      "Elapsed time for full image generation: 0:00:00.003147\n",
      "Elapsed time for inference only: 0:00:00.004839\n",
      "Elapsed time for full image generation: 0:00:00.006104\n",
      "Elapsed time for inference only: 0:00:00.003243\n",
      "Elapsed time for full image generation: 0:00:00.003675\n",
      "Elapsed time for inference only: 0:00:00.003320\n",
      "Elapsed time for full image generation: 0:00:00.003804\n",
      "Elapsed time for inference only: 0:00:00.003164\n",
      "Elapsed time for full image generation: 0:00:00.003503\n",
      "Elapsed time for inference only: 0:00:00.002989\n",
      "Elapsed time for full image generation: 0:00:00.003201\n",
      "Elapsed time for inference only: 0:00:00.002894\n",
      "Elapsed time for full image generation: 0:00:00.003109\n",
      "Elapsed time for inference only: 0:00:00.002887\n",
      "Elapsed time for full image generation: 0:00:00.003102\n",
      "Elapsed time for inference only: 0:00:00.002889\n",
      "Elapsed time for full image generation: 0:00:00.003118\n",
      "Elapsed time for inference only: 0:00:00.002920\n",
      "Elapsed time for full image generation: 0:00:00.003173\n",
      "Elapsed time for inference only: 0:00:00.002884\n",
      "Elapsed time for full image generation: 0:00:00.003139\n",
      "Elapsed time for inference only: 0:00:00.002885\n",
      "Elapsed time for full image generation: 0:00:00.003152\n",
      "Elapsed time for inference only: 0:00:00.002887\n",
      "Elapsed time for full image generation: 0:00:00.003104\n",
      "Elapsed time for inference only: 0:00:00.002888\n",
      "Elapsed time for full image generation: 0:00:00.003092\n",
      "Elapsed time for inference only: 0:00:00.002886\n",
      "Elapsed time for full image generation: 0:00:00.003107\n",
      "Elapsed time for inference only: 0:00:00.002887\n",
      "Elapsed time for full image generation: 0:00:00.003130\n",
      "Elapsed time for inference only: 0:00:00.002887\n",
      "Elapsed time for full image generation: 0:00:00.003120\n",
      "Elapsed time for inference only: 0:00:00.002891\n",
      "Elapsed time for full image generation: 0:00:00.003135\n",
      "Elapsed time for inference only: 0:00:00.002941\n",
      "Elapsed time for full image generation: 0:00:00.003185\n",
      "Elapsed time for inference only: 0:00:00.002886\n",
      "Elapsed time for full image generation: 0:00:00.003120\n",
      "Elapsed time for inference only: 0:00:00.002887\n",
      "Elapsed time for full image generation: 0:00:00.003117\n",
      "Elapsed time for inference only: 0:00:00.002890\n",
      "Elapsed time for full image generation: 0:00:00.003096\n",
      "Elapsed time for inference only: 0:00:00.002884\n",
      "Elapsed time for full image generation: 0:00:00.003137\n",
      "Elapsed time for inference only: 0:00:00.002889\n",
      "Elapsed time for full image generation: 0:00:00.003113\n",
      "Elapsed time for inference only: 0:00:00.002887\n",
      "Elapsed time for full image generation: 0:00:00.003123\n",
      "Elapsed time for inference only: 0:00:00.002886\n",
      "Elapsed time for full image generation: 0:00:00.003121\n",
      "Elapsed time for inference only: 0:00:00.002887\n",
      "Elapsed time for full image generation: 0:00:00.003095\n",
      "Elapsed time for inference only: 0:00:00.002888\n",
      "Elapsed time for full image generation: 0:00:00.003091\n",
      "Elapsed time for inference only: 0:00:00.002889\n",
      "Elapsed time for full image generation: 0:00:00.003108\n",
      "Elapsed time for inference only: 0:00:00.002887\n",
      "Elapsed time for full image generation: 0:00:00.003139\n",
      "Elapsed time for inference only: 0:00:00.002890\n",
      "Elapsed time for full image generation: 0:00:00.003146\n",
      "Elapsed time for inference only: 0:00:00.002886\n",
      "Elapsed time for full image generation: 0:00:00.003121\n",
      "Elapsed time for inference only: 0:00:00.002888\n",
      "Elapsed time for full image generation: 0:00:00.003105\n",
      "Elapsed time for inference only: 0:00:00.002886\n",
      "Elapsed time for full image generation: 0:00:00.003116\n",
      "Elapsed time for inference only: 0:00:00.002887\n",
      "Elapsed time for full image generation: 0:00:00.003102\n",
      "Elapsed time for inference only: 0:00:00.002885\n",
      "Elapsed time for full image generation: 0:00:00.003136\n",
      "Elapsed time for inference only: 0:00:00.002884\n",
      "Elapsed time for full image generation: 0:00:00.003106\n",
      "Elapsed time for inference only: 0:00:00.002885\n",
      "Elapsed time for full image generation: 0:00:00.003122\n",
      "Elapsed time for inference only: 0:00:00.002888\n",
      "Elapsed time for full image generation: 0:00:00.003111\n",
      "Elapsed time for inference only: 0:00:00.002885\n",
      "Elapsed time for full image generation: 0:00:00.003136\n",
      "100\n"
     ]
    }
   ],
   "source": [
    "imgs = genImages(100)\n",
    "print(len(imgs)) "
   ]
  },
  {
   "cell_type": "code",
   "execution_count": 16,
   "metadata": {
    "scrolled": false
   },
   "outputs": [
    {
     "data": {
      "image/png": "[encoded data removed]",
      "text/plain": [
       "<Figure size 1440x720 with 10 Axes>"
      ]
     },
     "metadata": {
      "needs_background": "light"
     },
     "output_type": "display_data"
    }
   ],
   "source": [
    "idxs = [np.random.randint(0, len(imgs)) for x in range(10)] \n",
    "y = [imgs[i] for i in idxs]\n",
    "\n",
    "def plot(y): \n",
    "    num_img = len(y) \n",
    "    fig, axes = plt.subplots(1, num_img, figsize=(20,10))\n",
    "    for i in range(num_img):\n",
    "        #img = tfk.preprocessing.image.array_to_img(imgs[i])\n",
    "        img = y[i] \n",
    "        ax = axes[i%num_img]\n",
    "        ax.imshow(np.squeeze(img), cmap='gray')\n",
    "        ax.axis('off')\n",
    "    plt.tight_layout()\n",
    "    plt.show()\n",
    "\n",
    "plot(y)"
   ]
  },
  {
   "cell_type": "code",
   "execution_count": 11,
   "metadata": {},
   "outputs": [],
   "source": [
    "del dpu \n",
    "del overlay "
   ]
  }
 ],
 "metadata": {
  "kernelspec": {
   "display_name": "Python 3 (ipykernel)",
   "language": "python",
   "name": "python3"
  },
  "language_info": {
   "codemirror_mode": {
    "name": "ipython",
    "version": 3
   },
   "file_extension": ".py",
   "mimetype": "text/x-python",
   "name": "python",
   "nbconvert_exporter": "python",
   "pygments_lexer": "ipython3",
   "version": "3.10.4"
  }
 },
 "nbformat": 4,
 "nbformat_minor": 4
}
